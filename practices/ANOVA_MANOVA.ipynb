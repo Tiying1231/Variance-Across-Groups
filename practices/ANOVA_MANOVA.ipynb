{
 "cells": [
  {
   "cell_type": "markdown",
   "metadata": {},
   "source": [
    "## Anova(Analysis of Variance)\n",
    "\n",
    "In the \"Bias Against Associates of the Obese\" case study, \n",
    "the researchers were interested in whether the weight of a companion of a job applicant \n",
    "would affect judgments of a male applicant's qualifications for a job. \n",
    "Two independent variables were investigated: \n",
    "(1) whether the companion was obese or of typical weight, \n",
    "(2) whether the companion was a girlfriend or just an acquaintance. \n",
    "\n",
    "One approach could have been to conduct two separate studies, one with each independent variable. \n",
    "However, it is more efficient to conduct one study that includes both independent variables. \n",
    "Moreover, there is a much bigger advantage than efficiency for including two variables in the same study: \n",
    "it allows a test of the **interaction** between the variables. \n",
    "There is an interaction when the effect of one variable differs depending on the level of a second variable. \n",
    "For example, it is possible that the effect of having an obese companion would differ depending on the relationship to the companion. \n",
    "Perhaps there is more prejudice against a person with an obese companion if the companion is a girlfriend \n",
    "than if she is just an acquaintance. \n",
    "If so, there would be an interaction between the obesity factor and the relationship factor.\n",
    "\n",
    "There are three effects of interest in this experiment:\n",
    "\n",
    "**Weight:** Are applicants judged differently depending on the weight of their companion?\n",
    "\n",
    "**Relationship:** Are applicants judged differently depending on their relationship with their companion?\n",
    "\n",
    "**Weight x Relationship Interaction:** Does the effect of weight differ depending on the relationship with the companion?\n",
    "\n",
    "We will apply ANOVA to study these effects. "
   ]
  },
  {
   "cell_type": "code",
   "execution_count": null,
   "metadata": {},
   "outputs": [],
   "source": [
    "# Read the data\n",
    "weight=read.csv(\"/dsa/data/all_datasets/weight/weight.csv\")\n",
    "\n",
    "str(weight)\n",
    "# WEIGHT and RELATE are factors\n",
    "weight$WEIGHT=as.factor(weight$WEIGHT)\n",
    "weight$RELATE=as.factor(weight$RELATE)"
   ]
  },
  {
   "cell_type": "markdown",
   "metadata": {},
   "source": [
    "Descriptions of the variables:\n",
    "\n",
    "**Weight:** The weight of the woman sitting next to the job applicant; 1 = obese, 2 = average weight.\n",
    "\n",
    "**Relate:** Type of relationship between the job applicant and the woman seated next to him: 1 = girlfriend, 2 = acquaintance.\n",
    "\n",
    "**Qualifid:** Larger numbers represent higher professional qualification ratings.\n",
    "\n",
    "Let's see if the mean qualification score differs with respect to companion's weight. \n",
    "We'll plot the group means."
   ]
  },
  {
   "cell_type": "code",
   "execution_count": null,
   "metadata": {},
   "outputs": [],
   "source": [
    "library(ggplot2)\n",
    "ggplot(weight,aes(WEIGHT,QUALIFID))+geom_boxplot()"
   ]
  },
  {
   "cell_type": "code",
   "execution_count": null,
   "metadata": {},
   "outputs": [],
   "source": [
    "# Also, plot the group means for RELATE \n",
    "ggplot(weight,aes(RELATE,QUALIFID))+geom_boxplot()"
   ]
  },
  {
   "cell_type": "markdown",
   "metadata": {},
   "source": [
    "From the plots above, it seems like WEIGHT has somewhat an effect on perceived qualification; \n",
    "RELATE does not seem to have an effect. \n",
    "Let's run ANOVA and see if these hypotheses hold."
   ]
  },
  {
   "cell_type": "code",
   "execution_count": null,
   "metadata": {},
   "outputs": [],
   "source": [
    "# run ANOVA\n",
    "fit1 <- aov(QUALIFID ~ WEIGHT + RELATE, data=weight)\n",
    "summary(fit1)"
   ]
  },
  {
   "cell_type": "markdown",
   "metadata": {},
   "source": [
    "ANOVA results show that WEIGHT has an effect. \n",
    "The p-value is 0.009 and therefore the null hypothesis of no main effect of WEIGHT is rejected. \n",
    "The conclusion is that being accompanied by an obese companion lowers judgments of qualifications. \n",
    "The effect of RELATE is not as significant but we can't readily reject the null hypothesis either. \n",
    "The conclusion is that being accompanied by a girlfriend leads to somewhat lower ratings than being accompanied by an acquaintance.\n",
    "\n",
    "Let's see if there is interaction between these two independent variables. **YOUR TURN: **"
   ]
  },
  {
   "cell_type": "code",
   "execution_count": null,
   "metadata": {},
   "outputs": [],
   "source": [
    "# run ANOVA with interaction\n",
    "fit2 <- aov(QUALIFID ~ <what goes in here>, data=weight)\n",
    "summary(fit2)"
   ]
  },
  {
   "cell_type": "markdown",
   "metadata": {},
   "source": [
    "The p-value for the interaction is 0.8, \n",
    "which is the probability of getting an interaction as big or bigger than the one obtained \n",
    "in the experiment if there were no interaction in the population. \n",
    "Therefore, these data provide no evidence for an interaction.\n",
    "\n",
    "Let's apply the same analysis to the kc_house_data that we have seen before. "
   ]
  },
  {
   "cell_type": "code",
   "execution_count": null,
   "metadata": {
    "collapsed": true
   },
   "outputs": [],
   "source": [
    "hs <- read.csv(\"/dsa/data/all_datasets/house_sales_in_king_county/kc_house_data.csv\",header=TRUE)\n",
    "head(hs)\n",
    "str(hs)"
   ]
  },
  {
   "cell_type": "code",
   "execution_count": null,
   "metadata": {
    "collapsed": true
   },
   "outputs": [],
   "source": [
    "# these are factors\n",
    "hs$bedrooms = as.factor(hs$bedrooms)\n",
    "hs$floors = as.factor(hs$floors)"
   ]
  },
  {
   "cell_type": "markdown",
   "metadata": {},
   "source": [
    "Let's see if price is effected by number of bedrooms and number of floors; and also see if there is interaction between the two.\n",
    "**Your turn:**"
   ]
  },
  {
   "cell_type": "code",
   "execution_count": null,
   "metadata": {
    "collapsed": true
   },
   "outputs": [],
   "source": [
    "fit3 <- aov(price ~ <what goes in here>, data=hs)\n",
    "summary(fit3)"
   ]
  },
  {
   "cell_type": "markdown",
   "metadata": {},
   "source": [
    "As we can see, both variables have a significant effect and there is interaction between them \n",
    "(we would expect that). \n",
    "\n",
    "Let's see how we can apply MANOVA to this data set. \n",
    "We'd like to see if there is a relation between price and location. \n",
    "We will use the price as the independent variable and see if it has an effect on the location \n",
    "(usually the other way around makes more sense). \n",
    "Here we use \"lat\" and \"long\" as the coordinates of the location; so we need to bind them in order to apply MANOVA. "
   ]
  },
  {
   "cell_type": "code",
   "execution_count": null,
   "metadata": {
    "collapsed": true
   },
   "outputs": [],
   "source": [
    "fit4 <- aov(cbind(<what goes in here>) ~ price, data = hs)\n",
    "summary(fit4)"
   ]
  },
  {
   "cell_type": "markdown",
   "metadata": {},
   "source": [
    "The price has more effect on lattitude than longitude (we know why from a previous practice); \n",
    "the p-value for lattitude is almost zero whereas the p-value for longitude is 0.0015 which suggests good significance. \n",
    "\n",
    "# Save your notebook!"
   ]
  }
 ],
 "metadata": {
  "kernelspec": {
   "display_name": "R",
   "language": "R",
   "name": "ir"
  },
  "language_info": {
   "codemirror_mode": "r",
   "file_extension": ".r",
   "mimetype": "text/x-r-source",
   "name": "R",
   "pygments_lexer": "r",
   "version": "3.4.1"
  }
 },
 "nbformat": 4,
 "nbformat_minor": 1
}
